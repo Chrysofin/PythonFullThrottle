{
 "cells": [
  {
   "cell_type": "markdown",
   "metadata": {},
   "source": [
    "&copy; 2019 by Pearson Education, Inc. All Rights Reserved. The content in this notebook is based on the book [**Python for Programmers**](https://amzn.to/2VvdnxE)."
   ]
  },
  {
   "cell_type": "markdown",
   "metadata": {
    "slideshow": {
     "slide_type": "slide"
    }
   },
   "source": [
    "# Python Full Throttle\n",
    "<img alt=\"Python Fundamentals LiveLessons cover\" src=\"./images/course_image.jpg\" width=\"300\"/>\n",
    "\n",
    "**Paul Deitel, CEO  \n",
    "Deitel & Associates, Inc.**  \n",
    "www.deitel.com  \n",
    "<paul@deitel.com>\n"
   ]
  },
  {
   "cell_type": "markdown",
   "metadata": {
    "slideshow": {
     "slide_type": "slide"
    }
   },
   "source": [
    "# Contact Info\n",
    "* **Questions? <paul@deitel.com>**\n",
    "* [Facebook](https://www.deitel.com/DeitelFan)\n",
    "* [Twitter](https://twitter.com/deitel) (@deitel)\n",
    "* [LinkedIn](https://linkedin.com/company/deitel-&-associates)\n",
    "* [YouTube](https://youtube.com/DeitelTV)\n"
   ]
  },
  {
   "cell_type": "markdown",
   "metadata": {
    "slideshow": {
     "slide_type": "slide"
    }
   },
   "source": [
    "# Multitiered Learning Approach\n",
    "* No need to take extensive notes.\n",
    "* [**A video of this presentation will be available here**](https://learning.oreilly.com/live-training/courses/python-full-throttle-with-paul-deitel/0636920274650/) 24 hours after the course.\n",
    "\n",
    "### Detailed Treatments of This Material (More Info in Next Few Slides)\n",
    "Here on Safari\n",
    "* **[_Python Fundamentals_ video training](https://learning.oreilly.com/videos/python-fundamentals/9780135917411)** \n",
    "* **[_Python for Programmers_ e-book](https://learning.oreilly.com/library/view/python-for-programmers/9780135231364/)**\n",
    "    \n",
    "Print books:\n",
    "* [**_Intro to Python for Computer Science and Data Science: Learning to Program with AI, Big Data and the Cloud_**](https://amzn.to/2LiDCmt)\n",
    "* [**_Python for Programmers_**](https://amzn.to/2VvdnxE)"
   ]
  },
  {
   "cell_type": "markdown",
   "metadata": {
    "slideshow": {
     "slide_type": "slide"
    }
   },
   "source": [
    "# [**Python Fundamentals LiveLessons** on Safari Online Learning](https://learning.oreilly.com/videos/python-fundamentals/9780135917411)\n",
    "* 24-hours of in-depth presentations on this live training's topics.\n",
    "* More on the way: Natural language processing, data mining Twitter, IBM Watson, machine learning, deep learning, and big data with Hadoop, Spark, NoSQL and IoT.  \n",
    "\n",
    "<a href=\"https://learning.oreilly.com/videos/python-fundamentals/9780135917411\"><img alt=\"Python Fundamentals LiveLessons cover\" src=\"./images/PythonFundamentalsLiveLessons.jpg\" width=\"300\" border=\"1\"/></a>\n"
   ]
  },
  {
   "cell_type": "markdown",
   "metadata": {
    "slideshow": {
     "slide_type": "slide"
    }
   },
   "source": [
    "# [**Python for Programmers** on Safari Online Learning](https://learning.oreilly.com/library/view/python-for-programmers/9780135231364/)\n",
    "* The book on which this course and **Python Fundamentals** are based. \n",
    "* Sections in the Jupyter Notebooks correspond to the sections in this book.  \n",
    "\n",
    "<a href=\"https://amzn.to/2VvdnxE\"><img alt=\"Python for Programmers cover\" src=\"./images/PyFPCover.png\" width=\"300\" border=\"1\"/></a>\n"
   ]
  },
  {
   "cell_type": "markdown",
   "metadata": {
    "slideshow": {
     "slide_type": "slide"
    }
   },
   "source": [
    "# Our Python Textbook for College Courses (1 of 3)\n",
    "<a href=\"https://amzn.to/2LiDCmt\"><img alt=\"Intro to Python for Computer Science and Data Science: Learning to Program with AI, Big Data and the Cloud\" src=\"./images/IntroToPythonCover.png\" width=\"300\" border=\"1\"></a>"
   ]
  },
  {
   "cell_type": "markdown",
   "metadata": {
    "slideshow": {
     "slide_type": "slide"
    }
   },
   "source": [
    "# Our Python Textbook for College Courses (2 of 3)\n",
    "* **College Professors/Instructors** \n",
    "    * View my [previously recorded 45-minute webinar](https://www.pearson.com/us/about/news-events/events/2019/04/intro-to-python-for-computer-science-and-data-science.html) overview of the textbook and our approach to teaching Python, computer science, data science and AI\n",
    "    * [Request an examination copy](https://www.pearson.com/replocator) from your Pearson representative"
   ]
  },
  {
   "cell_type": "markdown",
   "metadata": {
    "slideshow": {
     "slide_type": "slide"
    }
   },
   "source": [
    "# Our Python Textbook for College Courses (3 of 3)\n",
    "* Full color\n",
    "* 880 pages&mdash;240 more than **Python for Programmers**\n",
    "* **Programming fundamentals**, including **program development**\n",
    "* **557 self-check exercises**\n",
    "* **471 end-of-chapter exercises and projects** \n",
    "    * Good for term projects, directed studies, capstone projects and thesis research topics across many fields\n",
    "* [One-Page Table of Contents Architectural Diagram](http://deitel.com/bookresources/IntroToPython/IntroToPythonTOC.pdf)\n",
    "* [Book cover with Reviewer Testimonials](http://deitel.com/bookresources/IntroToPython/IntroToPythonFullCover.pdf)\n",
    "* [Additional Reviewer Testimonials](http://deitel.com/bookresources/IntroToPython/IntroToPythonAdditionalTestimonials.pdf)\n",
    "* [Full Table of Contents](http://deitel.com/bookresources/IntroToPython/IntroToPythonFullTOC.pdf)\n",
    "* [Preface](http://deitel.com/bookresources/IntroToPython/IntroToPythonPreface.pdf)\n",
    "   "
   ]
  },
  {
   "cell_type": "markdown",
   "metadata": {
    "slideshow": {
     "slide_type": "slide"
    }
   },
   "source": [
    "# Rhythm of the Course\n",
    "* **Whirlwind tour of Python**\n",
    "* **Lecture only, source-code focused presentation**\n",
    "    * Four lecture segments and three breaks\n",
    "    * One break in first three hours\n",
    "    * 45 minute meal break \n",
    "    * One break in last three hours\n",
    "* [**Python for Programmers**](https://learning.oreilly.com/library/view/python-for-programmers/9780135231364/) on Safari is **indexed extensively**. \n",
    "    * If you don't see a topic here or need more detail, check the book's index to help locate the topic in our [**Python Fundamentals videos**](https://learning.oreilly.com/videos/python-fundamentals/9780135917411) or the book.\n",
    "* Questions after the course? **<paul@deitel.com>**"
   ]
  },
  {
   "cell_type": "markdown",
   "metadata": {},
   "source": [
    "# [Anaconda Python Distribution](https://www.anaconda.com/distribution/)\n",
    "* **Windows**, **macOS** and **Linux**\n",
    "* **Python**, the **IPython interpreter** and **Jupyter Notebooks**\n",
    "* Includes wide range of **software packages** and **libraries** commonly used in **Python programming**, **scientific computing**, **data science**, **AI** and more\n",
    "* For setup instructions, see our *Python for Programmers* [Before You Begin section](https://learning.oreilly.com/library/view/python-for-programmers/9780135231364/pref03.xhtml#pref03)"
   ]
  },
  {
   "cell_type": "markdown",
   "metadata": {},
   "source": [
    "# Using Docker and the `jupyter/scipy-notebook` Container\n",
    "* If you prefer not to install Anaconda, you can use a Docker container.\n",
    "* **Be sure to replace `fullPathTo/PythonFullThrottle`** with the full path to the folder **`PythonFullThrottle`**. \n",
    "\n",
    "```\n",
    "docker run -p 8888:8888 -p 4040:4040 -it --user root \\\n",
    "    -v fullPathTo/PythonFullThrottle:/home/jovyan/work \\\n",
    "    jupyter/scipy-notebook:latest start.sh jupyter lab\n",
    "```\n",
    "* Downloads the container if necessary (took about 7-10 minutes on my system).\n",
    "* Attaches this presentation's files to the `/home/jovyan/work` folder in the container.\n",
    "* Any work you save there will be saved to the **`PythonFullThrottle`** folder on your system."
   ]
  },
  {
   "cell_type": "markdown",
   "metadata": {},
   "source": [
    "# Using Docker and the `jupyter/scipy-notebook` Container\n",
    "* Once the container is running, you’ll something like:\n",
    "```\n",
    "Copy/paste this URL into your browser when you connect \n",
    "for the first time, to login with a token:\n",
    "        http://(bb00eb337630 or 127.0.0.1):8888/?token= \n",
    "            9570295e90ee94ecef75568b95545b7910a8f5502e6f5680\n",
    "```\n",
    "* Copy the URL displayed in your command line, then edit \"`(bb00eb337630 or 127.0.0.1)`\" to \"`127.0.0.1`\" and press **Enter**.\n",
    "* If you accidentally close your browser, go to http://127.0.0.1:8888/lab to continue your session."
   ]
  },
  {
   "cell_type": "markdown",
   "metadata": {},
   "source": [
    "# Code and Jupyter Notebooks for Today's Presentation\n",
    "* Presenting in **Jupyter Notebooks**\n",
    "    * Browser-based tool.\n",
    "    * Can combine **executable code, text, images, audio and video**.\n",
    "* **JavaFullThrottle.zip** contains all the code and Jupyter Notebooks.\n",
    "    * See the **Resources** tab at the bottom of your screen.\n",
    "* Root **`PythonFullThrottle`** folder contains this **`StartHere.ipynb`** and **sufolders `ch01`-`ch10`** for the 10 sections of today's presentation.\n",
    "* Each notebook also is provided as an HTML document that you can simply load in your browser&mdash;the code in these is not executable."
   ]
  },
  {
   "cell_type": "markdown",
   "metadata": {
    "slideshow": {
     "slide_type": "slide"
    }
   },
   "source": [
    "# Python Full Throttle Table of Contents\n",
    "1. [Introduction and Test-Drive of the IPython Interpreter](ch01/Ch01.ipynb) \n",
    "2. [Introduction to Python](ch02/Ch02.ipynb) \n",
    "3. [Control Statements](ch03/Ch03.ipynb) \n",
    "4. [Functions](ch04/Ch04.ipynb)\n",
    "5. [Sequences: Lists and Tuples; Functional-Style Programming; Static Visualization](ch05/Ch05.ipynb) \n",
    "6. [Dictionaries and Sets; Dynamic Visualization](ch06/Ch06.ipynb) \n",
    "7. [Array-Oriented Programming with NumPy](ch07/Ch07.ipynb) \n",
    "8. [Strings: A Deeper Look; Regular Expressions](ch08/Ch08.ipynb) \n",
    "9. [Files and Exceptions; JSON Serialization; CSV Files](ch09/Ch09.ipynb) \n",
    "10. [Object-Oriented Programming; Card-Shuffling-and-Dealing Simulation](ch10/Ch10.ipynb)\n",
    "11. Wrap-Up"
   ]
  },
  {
   "cell_type": "markdown",
   "metadata": {
    "slideshow": {
     "slide_type": "slide"
    }
   },
   "source": [
    "# Wrap-Up\n",
    "### Thank You for Coming!\n",
    "* Please fill out the **course survey**. \n",
    "    * All comments, criticisms and suggestions are welcome.\n",
    "* Like what you saw? **Please send testimonial comments to paul@deitel.com**. We'd love to feature your comments in our marketing for future courses."
   ]
  },
  {
   "cell_type": "markdown",
   "metadata": {
    "slideshow": {
     "slide_type": "slide"
    }
   },
   "source": [
    "# Upcoming Deitel Safari Live Training Courses\n",
    "* [Java Full Throttle, June 3rd](https://learning.oreilly.com/live-training/courses/java-full-throttle-with-paul-deitel-a-one-day-code-intensive-java-standard-edition-presentation/0636920281535/)\n",
    "* [Python Full Throttle, June 24th](https://learning.oreilly.com/live-training/courses/python-full-throttle-with-paul-deitel/0636920281498/)\n",
    "* [Java Full Throttle, July 16th](https://learning.oreilly.com/live-training/courses/java-full-throttle-with-paul-deitel-a-one-day-code-intensive-java-standard-edition-presentation/0636920294290/)\n",
    "* **NEW: [Python Data Science Full Throttle, July 30th](https://learning.oreilly.com/live-training/courses/python-data-science-full-throttle-with-paul-deitel-introductory-ai-big-data-and-cloud-case-studies/0636920289173/)**\n",
    "* [Java Full Throttle, July 16th](https://learning.oreilly.com/live-training/courses/java-full-throttle-with-paul-deitel-a-one-day-code-intensive-java-standard-edition-presentation/0636920294290/)\n",
    "* [Python Data Science Full Throttle, July 30th](https://learning.oreilly.com/live-training/courses/python-data-science-full-throttle-with-paul-deitel-introductory-ai-big-data-and-cloud-case-studies/0636920296201/)"
   ]
  },
  {
   "cell_type": "markdown",
   "metadata": {
    "slideshow": {
     "slide_type": "slide"
    }
   },
   "source": [
    "# Python Data Science and AI Full Throttle (1 of 2)\n",
    "**Fast-paced introduction** to some of today's most compelling, leading-edge **data science** and **artificial intelligence** and technologies:\n",
    "* **Natural Language Processing**—TextBlob, Textatistic, spaCy and word_cloud\n",
    "* **Data Mining Twitter**—Sentiment analysis, Tweepy, JSON, streaming tweets, word_cloud\n",
    "* **IBM Watson and Cognitive Computing**—Building an inter-language speech-to-speech translator\n",
    "* **Supervised Machine Learning**—Classification and linear regression with scikit-learn, Seaborn and Matplotlib\n",
    "* **Unsupervised Machine Learning**—Clustering with scikit-learn\n",
    "* **Deep Learning for Computer Vision**—Convolutional neural network in Keras running over TensorFlow\n",
    "* **Deep Learning for Sentiment Analysis**—Recurrent neural network in Keras running over TensorFlow"
   ]
  },
  {
   "cell_type": "markdown",
   "metadata": {
    "slideshow": {
     "slide_type": "slide"
    }
   },
   "source": [
    "# Python Data Science and AI Full Throttle (2 of 2)\n",
    "* **MongoDB NoSQL Document Database**—Storing streaming tweets as JSON documents and visualizing with an interactive folium map\n",
    "* **Hadoop**—MapReduce with Hadoop Streaming running on a Microsoft Azure cluster\n",
    "* **Spark**—Spark and Spark Streaming running on a juypyter/pyspark-notebook Docker container\n",
    "* **Internet of Things (IoT) Streaming Data**—Simulated streaming sensors with dweet.io, dweepy and PubNub; simulated streaming stock prices with PubNub; and visualizing streaming data with freeboard.io and Seaborn"
   ]
  },
  {
   "cell_type": "markdown",
   "metadata": {
    "slideshow": {
     "slide_type": "slide"
    }
   },
   "source": [
    "# [**Python Fundamentals LiveLessons** on Safari Online Learning](https://learning.oreilly.com/videos/python-fundamentals/9780135917411)\n",
    "\n",
    "<a href=\"https://learning.oreilly.com/videos/python-fundamentals/9780135917411\"><img alt=\"Python Fundamentals LiveLessons cover\" src=\"./images/PythonFundamentalsLiveLessons.jpg\" width=\"300\" border=\"1\"/></a>\n"
   ]
  },
  {
   "cell_type": "markdown",
   "metadata": {
    "slideshow": {
     "slide_type": "slide"
    }
   },
   "source": [
    "# [**Python for Programmers** on Safari Online Learning](https://learning.oreilly.com/library/view/python-for-programmers/9780135231364/)\n",
    "\n",
    "<a href=\"https://learning.oreilly.com/library/view/python-for-programmers/9780135231364/\"><img alt=\"Python for Programmers cover\" src=\"./images/PyFPCover.png\" width=\"300\" border=\"1\"/></a>\n"
   ]
  },
  {
   "cell_type": "markdown",
   "metadata": {
    "slideshow": {
     "slide_type": "slide"
    }
   },
   "source": [
    "# Our Python Textbook for College Courses\n",
    "<a href=\"https://amzn.to/2LiDCmt\"><img alt=\"Intro to Python for Computer Science and Data Science: Learning to Program with AI, Big Data and the Cloud\" src=\"./images/IntroToPythonCover.png\" width=\"300\" border=\"1\"></a>"
   ]
  },
  {
   "cell_type": "markdown",
   "metadata": {
    "slideshow": {
     "slide_type": "slide"
    }
   },
   "source": [
    "# Contact Info\n",
    "* **Questions? <paul@deitel.com>**\n",
    "* [Facebook](https://www.deitel.com/DeitelFan)\n",
    "* [Twitter](https://twitter.com/deitel) (@deitel)\n",
    "* [LinkedIn](https://linkedin.com/company/deitel-&-associates)\n",
    "* [YouTube](https://youtube.com/DeitelTV)\n"
   ]
  },
  {
   "cell_type": "markdown",
   "metadata": {},
   "source": [
    "&copy; 2019 by Pearson Education, Inc. All Rights Reserved. The content in this notebook is based on the book [**Python for Programmers**](https://amzn.to/2VvdnxE)."
   ]
  }
 ],
 "metadata": {
  "kernelspec": {
   "display_name": "Python 3",
   "language": "python",
   "name": "python3"
  },
  "language_info": {
   "codemirror_mode": {
    "name": "ipython",
    "version": 3
   },
   "file_extension": ".py",
   "mimetype": "text/x-python",
   "name": "python",
   "nbconvert_exporter": "python",
   "pygments_lexer": "ipython3",
   "version": "3.7.3"
  },
  "nbTranslate": {
   "displayLangs": [
    "*"
   ],
   "hotkey": "alt-t",
   "langInMainMenu": true,
   "sourceLang": "en",
   "targetLang": "fr",
   "useGoogleTranslate": true
  }
 },
 "nbformat": 4,
 "nbformat_minor": 2
}
